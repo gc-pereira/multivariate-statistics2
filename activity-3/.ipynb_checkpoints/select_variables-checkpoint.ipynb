{
 "cells": [
  {
   "cell_type": "code",
   "execution_count": 41,
   "id": "ade5e804",
   "metadata": {},
   "outputs": [],
   "source": [
    "from sklearn.feature_selection import mutual_info_regression, SelectKBest, mutual_info_classif\n",
    "import pandas as pd\n",
    "import seaborn as sns\n",
    "import matplotlib.pyplot as plt\n",
    "import random\n",
    "import numpy as np"
   ]
  },
  {
   "cell_type": "code",
   "execution_count": 42,
   "id": "ea179f12",
   "metadata": {},
   "outputs": [],
   "source": [
    "random.seed(57)"
   ]
  },
  {
   "cell_type": "code",
   "execution_count": 43,
   "id": "e2f0c5f9",
   "metadata": {},
   "outputs": [
    {
     "name": "stderr",
     "output_type": "stream",
     "text": [
      "<ipython-input-43-e1fc943661c9>:1: FutureWarning: Your version of xlrd is 1.2.0. In xlrd >= 2.0, only the xls format is supported. As a result, the openpyxl engine will be used if it is installed and the engine argument is not specified. Install openpyxl instead.\n",
      "  df = pd.read_excel('/home/gabriel/Desktop/multivariate-statistics2/d1.xlsx')\n"
     ]
    },
    {
     "data": {
      "text/html": [
       "<div>\n",
       "<style scoped>\n",
       "    .dataframe tbody tr th:only-of-type {\n",
       "        vertical-align: middle;\n",
       "    }\n",
       "\n",
       "    .dataframe tbody tr th {\n",
       "        vertical-align: top;\n",
       "    }\n",
       "\n",
       "    .dataframe thead th {\n",
       "        text-align: right;\n",
       "    }\n",
       "</style>\n",
       "<table border=\"1\" class=\"dataframe\">\n",
       "  <thead>\n",
       "    <tr style=\"text-align: right;\">\n",
       "      <th></th>\n",
       "      <th>L</th>\n",
       "      <th>G</th>\n",
       "      <th>X0</th>\n",
       "      <th>X1</th>\n",
       "      <th>X2</th>\n",
       "      <th>X3</th>\n",
       "      <th>X4</th>\n",
       "      <th>X5</th>\n",
       "      <th>X6</th>\n",
       "      <th>X7</th>\n",
       "      <th>X8</th>\n",
       "    </tr>\n",
       "  </thead>\n",
       "  <tbody>\n",
       "    <tr>\n",
       "      <th>0</th>\n",
       "      <td>rm</td>\n",
       "      <td>m</td>\n",
       "      <td>141</td>\n",
       "      <td>126</td>\n",
       "      <td>104</td>\n",
       "      <td>81.0</td>\n",
       "      <td>31.8</td>\n",
       "      <td>65.7</td>\n",
       "      <td>50.9</td>\n",
       "      <td>44.0</td>\n",
       "      <td>18.2</td>\n",
       "    </tr>\n",
       "    <tr>\n",
       "      <th>1</th>\n",
       "      <td>rm</td>\n",
       "      <td>m</td>\n",
       "      <td>151</td>\n",
       "      <td>128</td>\n",
       "      <td>111</td>\n",
       "      <td>80.4</td>\n",
       "      <td>33.8</td>\n",
       "      <td>69.8</td>\n",
       "      <td>52.7</td>\n",
       "      <td>43.2</td>\n",
       "      <td>18.5</td>\n",
       "    </tr>\n",
       "    <tr>\n",
       "      <th>2</th>\n",
       "      <td>rm</td>\n",
       "      <td>m</td>\n",
       "      <td>152</td>\n",
       "      <td>126</td>\n",
       "      <td>108</td>\n",
       "      <td>85.7</td>\n",
       "      <td>34.7</td>\n",
       "      <td>69.1</td>\n",
       "      <td>49.3</td>\n",
       "      <td>45.6</td>\n",
       "      <td>17.9</td>\n",
       "    </tr>\n",
       "    <tr>\n",
       "      <th>3</th>\n",
       "      <td>rm</td>\n",
       "      <td>m</td>\n",
       "      <td>141</td>\n",
       "      <td>125</td>\n",
       "      <td>109</td>\n",
       "      <td>83.1</td>\n",
       "      <td>34.0</td>\n",
       "      <td>68.0</td>\n",
       "      <td>48.2</td>\n",
       "      <td>43.8</td>\n",
       "      <td>18.4</td>\n",
       "    </tr>\n",
       "    <tr>\n",
       "      <th>4</th>\n",
       "      <td>rm</td>\n",
       "      <td>m</td>\n",
       "      <td>143</td>\n",
       "      <td>126</td>\n",
       "      <td>107</td>\n",
       "      <td>81.9</td>\n",
       "      <td>34.0</td>\n",
       "      <td>66.1</td>\n",
       "      <td>49.0</td>\n",
       "      <td>42.4</td>\n",
       "      <td>17.9</td>\n",
       "    </tr>\n",
       "  </tbody>\n",
       "</table>\n",
       "</div>"
      ],
      "text/plain": [
       "    L  G   X0   X1   X2    X3    X4    X5    X6    X7    X8\n",
       "0  rm  m  141  126  104  81.0  31.8  65.7  50.9  44.0  18.2\n",
       "1  rm  m  151  128  111  80.4  33.8  69.8  52.7  43.2  18.5\n",
       "2  rm  m  152  126  108  85.7  34.7  69.1  49.3  45.6  17.9\n",
       "3  rm  m  141  125  109  83.1  34.0  68.0  48.2  43.8  18.4\n",
       "4  rm  m  143  126  107  81.9  34.0  66.1  49.0  42.4  17.9"
      ]
     },
     "execution_count": 43,
     "metadata": {},
     "output_type": "execute_result"
    }
   ],
   "source": [
    "df = pd.read_excel('/home/gabriel/Desktop/multivariate-statistics2/d1.xlsx')\n",
    "df.head()"
   ]
  },
  {
   "cell_type": "code",
   "execution_count": 70,
   "id": "7da96309",
   "metadata": {},
   "outputs": [],
   "source": [
    "X = df.iloc[:,2:11]\n",
    "y = df.iloc[:,0]"
   ]
  },
  {
   "cell_type": "code",
   "execution_count": 64,
   "id": "e3df3c17",
   "metadata": {},
   "outputs": [
    {
     "data": {
      "text/plain": [
       "array([0.02864083, 0.39709567, 0.41099003, 0.02087604, 0.0118948 ,\n",
       "       0.02109682, 0.01553982, 0.09756246, 0.03938253])"
      ]
     },
     "execution_count": 64,
     "metadata": {},
     "output_type": "execute_result"
    }
   ],
   "source": [
    "sel_mi = SelectKBest(score_func = mutual_info_classif, k = 4)\n",
    "fit_mi = sel_mi.fit(X,y)\n",
    "fit_mi.scores_"
   ]
  },
  {
   "cell_type": "code",
   "execution_count": 71,
   "id": "0bf16862",
   "metadata": {},
   "outputs": [
    {
     "data": {
      "text/plain": [
       "Index(['X1', 'X2', 'X7', 'X8'], dtype='object')"
      ]
     },
     "execution_count": 71,
     "metadata": {},
     "output_type": "execute_result"
    }
   ],
   "source": [
    "X.columns[sel_mi.get_support()]"
   ]
  },
  {
   "cell_type": "code",
   "execution_count": 72,
   "id": "19b767bb",
   "metadata": {},
   "outputs": [
    {
     "data": {
      "text/html": [
       "<div>\n",
       "<style scoped>\n",
       "    .dataframe tbody tr th:only-of-type {\n",
       "        vertical-align: middle;\n",
       "    }\n",
       "\n",
       "    .dataframe tbody tr th {\n",
       "        vertical-align: top;\n",
       "    }\n",
       "\n",
       "    .dataframe thead th {\n",
       "        text-align: right;\n",
       "    }\n",
       "</style>\n",
       "<table border=\"1\" class=\"dataframe\">\n",
       "  <thead>\n",
       "    <tr style=\"text-align: right;\">\n",
       "      <th></th>\n",
       "      <th>X1</th>\n",
       "      <th>X2</th>\n",
       "      <th>X7</th>\n",
       "      <th>X8</th>\n",
       "    </tr>\n",
       "  </thead>\n",
       "  <tbody>\n",
       "    <tr>\n",
       "      <th>0</th>\n",
       "      <td>126</td>\n",
       "      <td>104</td>\n",
       "      <td>44.0</td>\n",
       "      <td>18.2</td>\n",
       "    </tr>\n",
       "    <tr>\n",
       "      <th>1</th>\n",
       "      <td>128</td>\n",
       "      <td>111</td>\n",
       "      <td>43.2</td>\n",
       "      <td>18.5</td>\n",
       "    </tr>\n",
       "    <tr>\n",
       "      <th>2</th>\n",
       "      <td>126</td>\n",
       "      <td>108</td>\n",
       "      <td>45.6</td>\n",
       "      <td>17.9</td>\n",
       "    </tr>\n",
       "    <tr>\n",
       "      <th>3</th>\n",
       "      <td>125</td>\n",
       "      <td>109</td>\n",
       "      <td>43.8</td>\n",
       "      <td>18.4</td>\n",
       "    </tr>\n",
       "    <tr>\n",
       "      <th>4</th>\n",
       "      <td>126</td>\n",
       "      <td>107</td>\n",
       "      <td>42.4</td>\n",
       "      <td>17.9</td>\n",
       "    </tr>\n",
       "  </tbody>\n",
       "</table>\n",
       "</div>"
      ],
      "text/plain": [
       "    X1   X2    X7    X8\n",
       "0  126  104  44.0  18.2\n",
       "1  128  111  43.2  18.5\n",
       "2  126  108  45.6  17.9\n",
       "3  125  109  43.8  18.4\n",
       "4  126  107  42.4  17.9"
      ]
     },
     "execution_count": 72,
     "metadata": {},
     "output_type": "execute_result"
    }
   ],
   "source": [
    "X = X[X.columns[sel_mi.get_support()]]\n",
    "X.head()"
   ]
  },
  {
   "cell_type": "code",
   "execution_count": 73,
   "id": "fbbc4424",
   "metadata": {},
   "outputs": [
    {
     "data": {
      "text/plain": [
       "array([[126. , 104. ,  44. ,  18.2],\n",
       "       [128. , 111. ,  43.2,  18.5],\n",
       "       [126. , 108. ,  45.6,  17.9],\n",
       "       [125. , 109. ,  43.8,  18.4],\n",
       "       [126. , 107. ,  42.4,  17.9],\n",
       "       [128. , 110. ,  40.2,  18.2],\n",
       "       [116. , 102. ,  39. ,  16.8],\n",
       "       [120. , 103. ,  41.1,  16.9],\n",
       "       [116. , 103. ,  44.2,  17. ],\n",
       "       [117. ,  99. ,  37.1,  17.2],\n",
       "       [115. , 100. ,  40.5,  17.7],\n",
       "       [117. , 106. ,  38.2,  18.2],\n",
       "       [117. , 101. ,  41.5,  19. ],\n",
       "       [117. , 103. ,  43.7,  17.8],\n",
       "       [119. , 101. ,  41.1,  18.7],\n",
       "       [115. , 102. ,  42. ,  18.2],\n",
       "       [117. , 100. ,  37.6,  17.7],\n",
       "       [114. , 102. ,  37.8,  17.2],\n",
       "       [110. ,  94. ,  40.4,  18.1],\n",
       "       [112. ,  94. ,  42.7,  17.7],\n",
       "       [109. ,  91. ,  41.2,  17.1],\n",
       "       [112. ,  99. ,  40.9,  18.3],\n",
       "       [112. ,  99. ,  34.1,  17.5],\n",
       "       [113. ,  97. ,  43.6,  17.2],\n",
       "       [107. ,  97. ,  37.3,  16.5]])"
      ]
     },
     "execution_count": 73,
     "metadata": {},
     "output_type": "execute_result"
    }
   ],
   "source": [
    "X_matrix = X.to_numpy()\n",
    "X_matrix"
   ]
  },
  {
   "cell_type": "code",
   "execution_count": 74,
   "id": "2819a6ad",
   "metadata": {},
   "outputs": [
    {
     "data": {
      "text/plain": [
       "array([[36.74      , 27.12      ,  7.627     ,  1.79983333],\n",
       "       [27.12      , 25.47666667,  4.25933333,  1.26033333],\n",
       "       [ 7.627     ,  4.25933333,  7.69043333,  0.55711667],\n",
       "       [ 1.79983333,  1.26033333,  0.55711667,  0.41173333]])"
      ]
     },
     "execution_count": 74,
     "metadata": {},
     "output_type": "execute_result"
    }
   ],
   "source": [
    "var_cov = np.cov(X_matrix.T)\n",
    "var_cov"
   ]
  },
  {
   "cell_type": "code",
   "execution_count": 76,
   "id": "5ea13a26",
   "metadata": {},
   "outputs": [
    {
     "data": {
      "text/plain": [
       "array([[1.        , 0.8864389 , 0.45374177, 0.46275882],\n",
       "       [0.8864389 , 1.        , 0.30429507, 0.38914021],\n",
       "       [0.45374177, 0.30429507, 1.        , 0.31308534],\n",
       "       [0.46275882, 0.38914021, 0.31308534, 1.        ]])"
      ]
     },
     "execution_count": 76,
     "metadata": {},
     "output_type": "execute_result"
    }
   ],
   "source": [
    "phi = np.corrcoef(X_matrix.T)\n",
    "phi"
   ]
  },
  {
   "cell_type": "code",
   "execution_count": 77,
   "id": "99097f89",
   "metadata": {},
   "outputs": [
    {
     "data": {
      "text/plain": [
       "0.9999999999999998"
      ]
     },
     "execution_count": 77,
     "metadata": {},
     "output_type": "execute_result"
    }
   ],
   "source": [
    "var_eigenvalue, var_eigenvector = np.linalg.eig(var_cov)\n",
    "var_eigenvector[:, 0] @ var_eigenvector[:, 0]"
   ]
  },
  {
   "cell_type": "code",
   "execution_count": 88,
   "id": "d861bece",
   "metadata": {},
   "outputs": [
    {
     "data": {
      "text/plain": [
       "-5.551115123125783e-16"
      ]
     },
     "execution_count": 88,
     "metadata": {},
     "output_type": "execute_result"
    }
   ],
   "source": [
    "phi_eigenvalue, phi_eigenvector = np.linalg.eig(phi)\n",
    "phi_eigenvector[:, 0] @ phi_eigenvector[:, 1]"
   ]
  },
  {
   "cell_type": "code",
   "execution_count": 95,
   "id": "f93dafbe",
   "metadata": {},
   "outputs": [],
   "source": [
    "def normalize_eigenvector(arr, eigenvalues):\n",
    "    sum_squared = 0\n",
    "    for i in range(len(eigenvalues)):\n",
    "        norm = (arr[:,i]**2).sum()\n",
    "        arr[:,i] = arr[:,i]/norm\n",
    "    return arr"
   ]
  },
  {
   "cell_type": "code",
   "execution_count": 127,
   "id": "bc57129a",
   "metadata": {},
   "outputs": [
    {
     "data": {
      "text/plain": [
       "array([[36.74      , 27.12      ,  7.627     ,  1.79983333],\n",
       "       [27.12      , 25.47666667,  4.25933333,  1.26033333],\n",
       "       [ 7.627     ,  4.25933333,  7.69043333,  0.55711667],\n",
       "       [ 1.79983333,  1.26033333,  0.55711667,  0.41173333]])"
      ]
     },
     "execution_count": 127,
     "metadata": {},
     "output_type": "execute_result"
    }
   ],
   "source": [
    "A = np.zeros((4,4))\n",
    "A = np.matmul(np.matmul(var_eigenvector,np.diag(var_eigenvalue)),var_eigenvector.T)\n",
    "A"
   ]
  },
  {
   "cell_type": "code",
   "execution_count": 116,
   "id": "c6e1ba84",
   "metadata": {},
   "outputs": [
    {
     "data": {
      "text/plain": [
       "array([[ 0.7676604 ,  0.61895609,  0.16179337,  0.03760014],\n",
       "       [ 0.12918957, -0.39947025,  0.90688409,  0.03598368],\n",
       "       [ 0.62579107, -0.67620853, -0.38797914,  0.0244897 ],\n",
       "       [-0.04891928,  0.00767443, -0.02926343,  0.99834446]])"
      ]
     },
     "execution_count": 116,
     "metadata": {},
     "output_type": "execute_result"
    }
   ],
   "source": [
    "normalize_eigenvector(var_eigenvector, var_eigenvalue)."
   ]
  },
  {
   "cell_type": "code",
   "execution_count": 119,
   "id": "f5586dbb",
   "metadata": {},
   "outputs": [
    {
     "data": {
      "text/plain": [
       "array([[60.30219138,  0.        ,  0.        ,  0.        ],\n",
       "       [ 0.        ,  6.92285896,  0.        ,  0.        ],\n",
       "       [ 0.        ,  0.        ,  2.77688403,  0.        ],\n",
       "       [ 0.        ,  0.        ,  0.        ,  0.31689897]])"
      ]
     },
     "execution_count": 119,
     "metadata": {},
     "output_type": "execute_result"
    }
   ],
   "source": []
  }
 ],
 "metadata": {
  "kernelspec": {
   "display_name": "Python 3",
   "language": "python",
   "name": "python3"
  },
  "language_info": {
   "codemirror_mode": {
    "name": "ipython",
    "version": 3
   },
   "file_extension": ".py",
   "mimetype": "text/x-python",
   "name": "python",
   "nbconvert_exporter": "python",
   "pygments_lexer": "ipython3",
   "version": "3.8.6"
  }
 },
 "nbformat": 4,
 "nbformat_minor": 5
}
